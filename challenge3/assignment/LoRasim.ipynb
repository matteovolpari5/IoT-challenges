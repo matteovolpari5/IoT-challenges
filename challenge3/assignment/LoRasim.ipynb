{
  "cells": [
    {
      "cell_type": "markdown",
      "metadata": {
        "id": "iMM8RhIsqgd-"
      },
      "source": [
        "## **Setup the environment**"
      ]
    },
    {
      "cell_type": "code",
      "execution_count": 11,
      "metadata": {
        "colab": {
          "base_uri": "https://localhost:8080/"
        },
        "id": "UW-aN-jnqWJH",
        "outputId": "4c3fd83d-c303-4256-e5b1-d6926cd64da4"
      },
      "outputs": [
        {
          "output_type": "stream",
          "name": "stdout",
          "text": [
            "--2025-04-15 13:17:57--  https://www.lancaster.ac.uk/scc/sites/lora/lorasim-20170710.tgz\n",
            "Resolving www.lancaster.ac.uk (www.lancaster.ac.uk)... 148.88.65.80, 2001:630:80:2ff::80:1\n",
            "Connecting to www.lancaster.ac.uk (www.lancaster.ac.uk)|148.88.65.80|:443... connected.\n",
            "HTTP request sent, awaiting response... 200 OK\n",
            "Length: 112640 (110K) [application/x-gzip]\n",
            "Saving to: ‘lorasim-20170710.tgz’\n",
            "\n",
            "lorasim-20170710.tg 100%[===================>] 110.00K   445KB/s    in 0.2s    \n",
            "\n",
            "2025-04-15 13:17:58 (445 KB/s) - ‘lorasim-20170710.tgz’ saved [112640/112640]\n",
            "\n",
            "lorasim/\n",
            "lorasim/loraDir.py\n",
            "lorasim/loraDirMulBS.py\n",
            "lorasim/oneDirectionalLoraIntf.py\n",
            "lorasim/requirements.txt\n",
            "lorasim/directionalLoraIntf.py\n",
            "Reading package lists... Done\n",
            "Building dependency tree... Done\n",
            "Reading state information... Done\n",
            "python2 is already the newest version (2.7.18-3).\n",
            "0 upgraded, 0 newly installed, 0 to remove and 30 not upgraded.\n",
            "  % Total    % Received % Xferd  Average Speed   Time    Time     Time  Current\n",
            "                                 Dload  Upload   Total   Spent    Left  Speed\n",
            "100 1863k  100 1863k    0     0  4941k      0 --:--:-- --:--:-- --:--:-- 4956k\n",
            "Collecting pip<21.0\n",
            "  Using cached pip-20.3.4-py2.py3-none-any.whl (1.5 MB)\n",
            "Installing collected packages: pip\n",
            "  Attempting uninstall: pip\n",
            "    Found existing installation: pip 20.3.4\n",
            "    Uninstalling pip-20.3.4:\n",
            "      Successfully uninstalled pip-20.3.4\n",
            "Successfully installed pip-20.3.4\n",
            "Reading package lists... Done\n",
            "Building dependency tree... Done\n",
            "Reading state information... Done\n",
            "python-tk is already the newest version (2.7.18-1build1).\n",
            "0 upgraded, 0 newly installed, 0 to remove and 30 not upgraded.\n",
            "Requirement already satisfied: numpy==1.11.1 in /usr/local/lib/python2.7/dist-packages (from -r LoRaSim/requirements.txt (line 1)) (1.11.1)\n",
            "Requirement already satisfied: simpy==3.0.10 in /usr/local/lib/python2.7/dist-packages (from -r LoRaSim/requirements.txt (line 2)) (3.0.10)\n",
            "Requirement already satisfied: matplotlib==2.0.0 in /usr/local/lib/python2.7/dist-packages (from -r LoRaSim/requirements.txt (line 3)) (2.0.0)\n",
            "Requirement already satisfied: six>=1.10 in /usr/local/lib/python2.7/dist-packages (from matplotlib==2.0.0->-r LoRaSim/requirements.txt (line 3)) (1.17.0)\n",
            "Requirement already satisfied: python-dateutil in /usr/local/lib/python2.7/dist-packages (from matplotlib==2.0.0->-r LoRaSim/requirements.txt (line 3)) (2.9.0.post0)\n",
            "Requirement already satisfied: pytz in /usr/local/lib/python2.7/dist-packages (from matplotlib==2.0.0->-r LoRaSim/requirements.txt (line 3)) (2025.2)\n",
            "Requirement already satisfied: functools32 in /usr/local/lib/python2.7/dist-packages (from matplotlib==2.0.0->-r LoRaSim/requirements.txt (line 3)) (3.2.3.post2)\n",
            "Requirement already satisfied: cycler>=0.10 in /usr/local/lib/python2.7/dist-packages (from matplotlib==2.0.0->-r LoRaSim/requirements.txt (line 3)) (0.10.0)\n",
            "Requirement already satisfied: pyparsing!=2.0.0,!=2.0.4,!=2.1.2,!=2.1.6,>=1.5.6 in /usr/local/lib/python2.7/dist-packages (from matplotlib==2.0.0->-r LoRaSim/requirements.txt (line 3)) (2.4.7)\n",
            "Requirement already satisfied: subprocess32 in /usr/local/lib/python2.7/dist-packages (from matplotlib==2.0.0->-r LoRaSim/requirements.txt (line 3)) (3.5.4)\n"
          ]
        }
      ],
      "source": [
        "! wget https://www.lancaster.ac.uk/scc/sites/lora/lorasim-20170710.tgz\n",
        "! tar -xvf lorasim-20170710.tgz\n",
        "\n",
        "!sudo apt-get install python2 && curl https://bootstrap.pypa.io/pip/2.7/get-pip.py -o get-pip.py && python2 get-pip.py && rm get-pip.py\n",
        "!sudo apt install python-tk\n",
        "!pip2 install -r 'LoRaSim/requirements.txt'\n"
      ]
    },
    {
      "cell_type": "markdown",
      "metadata": {
        "id": "3tY2V9_Xscp-"
      },
      "source": [
        "## **Play with the simulator**"
      ]
    },
    {
      "cell_type": "markdown",
      "metadata": {
        "id": "_Gov4P-bsjed"
      },
      "source": [
        "### **Import libraries**"
      ]
    },
    {
      "cell_type": "code",
      "execution_count": 12,
      "metadata": {
        "id": "ZPwQ7hUhLpGP"
      },
      "outputs": [],
      "source": [
        "import os\n",
        "import pandas as pd\n",
        "import math"
      ]
    },
    {
      "cell_type": "markdown",
      "metadata": {
        "id": "zDRee-5VsrGU"
      },
      "source": [
        "### **Execute simulations**"
      ]
    },
    {
      "cell_type": "code",
      "execution_count": 19,
      "metadata": {
        "id": "Je8pEuyNOSv9"
      },
      "outputs": [],
      "source": [
        "import subprocess\n",
        "\n",
        "def simulate(n_nodes, tx_rate, exp, duration):\n",
        "    env = os.environ.copy()\n",
        "    env[\"MPLBACKEND\"] = \"Agg\"\n",
        "\n",
        "    # Use subprocess.run to execute the command and capture output\n",
        "    result = subprocess.run(\n",
        "        [\n",
        "            \"python2\",\n",
        "            \"lorasim/loraDir.py\",\n",
        "            str(int(n_nodes)),\n",
        "            str(int(tx_rate)),\n",
        "            str(int(exp)),\n",
        "            str(int(duration)),\n",
        "        ],\n",
        "        env=env,\n",
        "        capture_output=True,\n",
        "        text=True,  # Capture output as text\n",
        "    )\n",
        "\n",
        "    # Print the output\n",
        "    # print(result.stdout)\n",
        "    # print(result.stderr)\n",
        "\n",
        "# Der in aloha defined as S/G = e^(-2G)\n",
        "def aloha_der(n_nodes,t):\n",
        "    rate = 1e-6\n",
        "    return math.exp(-2 * n_nodes * rate * t)\n"
      ]
    },
    {
      "cell_type": "code",
      "execution_count": 20,
      "metadata": {
        "colab": {
          "base_uri": "https://localhost:8080/"
        },
        "id": "7DHtjLhf2fxP",
        "outputId": "403a9dae-8643-47f6-e85d-bf92616324f2"
      },
      "outputs": [
        {
          "output_type": "stream",
          "name": "stdout",
          "text": [
            "Simulating 1 nodes\n",
            "Simulating 2 nodes\n",
            "Simulating 3 nodes\n",
            "Simulating 4 nodes\n",
            "Simulating 5 nodes\n",
            "Simulating 6 nodes\n",
            "Simulating 7 nodes\n",
            "Simulating 8 nodes\n",
            "Simulating 9 nodes\n",
            "Simulating 10 nodes\n",
            "Simulating 20 nodes\n",
            "Simulating 30 nodes\n",
            "Simulating 40 nodes\n",
            "Simulating 50 nodes\n",
            "Simulating 60 nodes\n",
            "Simulating 70 nodes\n",
            "Simulating 80 nodes\n",
            "Simulating 90 nodes\n",
            "Simulating 100 nodes\n",
            "Simulating 110 nodes\n",
            "Simulating 120 nodes\n",
            "Simulating 130 nodes\n",
            "Simulating 140 nodes\n",
            "Simulating 150 nodes\n",
            "Simulating 160 nodes\n",
            "Simulating 170 nodes\n",
            "Simulating 180 nodes\n",
            "Simulating 190 nodes\n",
            "Simulating 200 nodes\n",
            "Simulating 210 nodes\n",
            "Simulating 220 nodes\n",
            "Simulating 230 nodes\n",
            "Simulating 240 nodes\n",
            "Simulating 250 nodes\n",
            "Simulating 260 nodes\n",
            "Simulating 270 nodes\n",
            "Simulating 280 nodes\n",
            "Simulating 290 nodes\n",
            "Simulating 300 nodes\n",
            "Simulating 400 nodes\n",
            "Simulating 500 nodes\n",
            "Simulating 600 nodes\n",
            "Simulating 700 nodes\n",
            "Simulating 800 nodes\n",
            "Simulating 900 nodes\n"
          ]
        }
      ],
      "source": [
        "duration = 86400000\n",
        "tx_rate = 1e6\n",
        "\n",
        "for n_nodes in list(range(1,10)) + list(range(10,300,10)) + list(range(300,1000,100)):\n",
        "  print(f\"Simulating {n_nodes} nodes\")\n",
        "  simulate(n_nodes, tx_rate, 0, duration)\n",
        "  simulate(n_nodes, tx_rate, 2, duration)\n",
        "  simulate(n_nodes, tx_rate, 4, duration)\n"
      ]
    },
    {
      "cell_type": "code",
      "execution_count": 21,
      "metadata": {
        "id": "Uf3o7Vsv3qje"
      },
      "outputs": [],
      "source": [
        "data = pd.read_csv(\"exp0.dat\", sep=\" \")\n",
        "data2 = pd.read_csv(\"exp2.dat\", sep=\" \")\n",
        "data4 = pd.read_csv(\"exp4.dat\", sep=\" \")\n"
      ]
    },
    {
      "cell_type": "code",
      "execution_count": 22,
      "metadata": {
        "id": "9o7RWu3A4dJS"
      },
      "outputs": [],
      "source": [
        "\n",
        "data[\"der\"] = (data[\"nrTransmissions\"] - data[\"nrCollisions\"]) / data[\"nrTransmissions\"]\n",
        "data[\"der_aloha\"] = data[\"#nrNodes\"].apply(lambda x: aloha_der(x,t=1712)) #7.07 1712 1318.91\n",
        "data2[\"der\"] = (data2[\"nrTransmissions\"] - data2[\"nrCollisions\"]) / data2[\"nrTransmissions\"]\n",
        "data4[\"der\"] = (data4[\"nrTransmissions\"] - data4[\"nrCollisions\"]) / data4[\"nrTransmissions\"]"
      ]
    },
    {
      "cell_type": "code",
      "execution_count": 23,
      "metadata": {
        "colab": {
          "base_uri": "https://localhost:8080/",
          "height": 472
        },
        "id": "82AP10M64MiZ",
        "outputId": "b2fd5dd0-6225-4fd8-9b55-c4bd880dd17b"
      },
      "outputs": [
        {
          "output_type": "display_data",
          "data": {
            "text/plain": [
              "<Figure size 640x480 with 1 Axes>"
            ],
            "image/png": "[encoded data removed]"
          },
          "metadata": {}
        }
      ],
      "source": [
        "import matplotlib\n",
        "import matplotlib.pyplot as plt\n",
        "\n",
        "plt.plot(data[\"#nrNodes\"], data[\"der_aloha\"], label=\"Aloha\")\n",
        "plt.plot(data[\"#nrNodes\"], data[\"der\"], label=\"SN1\")\n",
        "plt.plot(data2[\"#nrNodes\"], data2[\"der\"], label=\"SN2\")\n",
        "plt.plot(data4[\"#nrNodes\"], data4[\"der\"], label=\"SN3\")\n",
        "plt.title(\"Success Rate (%)\")\n",
        "plt.xlabel(\"Number of nodes\")\n",
        "plt.ylabel(\"Rate\")\n",
        "plt.legend()\n",
        "plt.grid()\n",
        "plt.show()"
      ]
    }
  ],
  "metadata": {
    "colab": {
      "provenance": []
    },
    "kernelspec": {
      "display_name": "Python 3",
      "name": "python3"
    },
    "language_info": {
      "name": "python"
    }
  },
  "nbformat": 4,
  "nbformat_minor": 0
}